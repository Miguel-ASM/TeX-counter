{
 "cells": [
  {
   "cell_type": "markdown",
   "metadata": {},
   "source": [
    "# SOM test 1\n",
    "\n",
    "Test the SOM in an harmonic oscillator. I will use the SOM to simulate the wave function evolution in a harmonic potential. Then I compute the expectation values of position and momenta and I compare it with the classical result-\n"
   ]
  },
  {
   "cell_type": "code",
   "execution_count": 1,
   "metadata": {},
   "outputs": [],
   "source": [
    "import sys\n",
    "sys.path.insert(0, '..')"
   ]
  },
  {
   "cell_type": "code",
   "execution_count": 2,
   "metadata": {},
   "outputs": [],
   "source": [
    "import pysom\n",
    "import numpy as np\n",
    "from scipy import constants\n",
    "from matplotlib import pyplot as plt"
   ]
  },
  {
   "cell_type": "markdown",
   "metadata": {},
   "source": [
    "### Initializing the parameters of the problem and physical constants"
   ]
  },
  {
   "cell_type": "code",
   "execution_count": 70,
   "metadata": {},
   "outputs": [],
   "source": [
    "################################################################################\n",
    "#                                PARAMETERS                                    #\n",
    "################################################################################\n",
    "\n",
    "hb = constants.hbar          \n",
    "pi = constants.pi\n",
    "m = 40*1.660538921e-27       #mass of 40Ca\n",
    "omega = 2*pi*2e6          #frequency of the trap"
   ]
  },
  {
   "cell_type": "markdown",
   "metadata": {},
   "source": [
    "### Initializing the grid: position/momentum"
   ]
  },
  {
   "cell_type": "code",
   "execution_count": 71,
   "metadata": {},
   "outputs": [],
   "source": [
    "################################################################################\n",
    "#                                   GRID                                       #\n",
    "################################################################################\n",
    "\n",
    "# Parameters\n",
    "nx = 2**11      #number of points in our grid (powers of 2)\n",
    "Lx = 1.e-6       #length of the grid\n",
    "Lx0 = -Lx/2     #minimum value of the grid\n",
    "\n",
    "# Create the grid\n",
    "[x, dx, px, dpx] = pysom.grid.grid_def(nx, Lx0, Lx, hb)"
   ]
  },
  {
   "cell_type": "code",
   "execution_count": 72,
   "metadata": {},
   "outputs": [],
   "source": [
    "################################################################################\n",
    "#                   TIME EVOLUTION PARAMETERS                                  #\n",
    "################################################################################\n",
    "\n",
    "# Final time parameters\n",
    "tf = 2*pi / omega           #final time\n",
    "dt = 1.e-8                  #required time step\n",
    "n = int( np.round(tf/dt) )  #number of steps to get to tf\n",
    "tt = np.linspace(0,tf,n)    #time vector\n",
    "dt = tt[1]-tt[0]            #actual time step\n",
    "\n",
    "# Potential en kinetic energy terms\n",
    "kin = px**2/(2*m)                     #kinetic vector\n",
    "expkin = np.exp(-1j*dt*kin/(2*hb))    #vector we will apply in the loop\n",
    "V = 1/2*m*omega**2*x**2               #potential vector\n"
   ]
  },
  {
   "cell_type": "markdown",
   "metadata": {},
   "source": [
    "### Function to calculate expectation values"
   ]
  },
  {
   "cell_type": "code",
   "execution_count": 73,
   "metadata": {},
   "outputs": [],
   "source": [
    "#define a function to compute the mean value of the function\n",
    "# if no function is specified, then it is equivalent to compute the squared norm of the wave function\n",
    "def mean(x,psi,f = lambda x:1.):\n",
    "    return np.trapz(f(x)*np.absolute(psi)**2, x)\n",
    "    "
   ]
  },
  {
   "cell_type": "markdown",
   "metadata": {},
   "source": [
    "### Initial state"
   ]
  },
  {
   "cell_type": "code",
   "execution_count": 74,
   "metadata": {},
   "outputs": [],
   "source": [
    "################################################################################\n",
    "#                                INITIAL WF                                    #\n",
    "################################################################################\n",
    "\n",
    "# We define a random gaussian displaced from the centre by Lx/3\n",
    "psi0 = (m*omega/(pi*hb))**(1/4)*np.exp(-m*omega*(x-Lx/3)**2/(2*hb),dtype = np.complex128);\n",
    "psi0 /= np.sqrt(np.trapz(np.absolute(psi0)**2, x) );\n",
    "\n",
    "# Define its momentum representation\n",
    "psip0 = np.fft.fft(psi0*dx)/(2*pi*hb)\n",
    "psip0 /= np.sqrt(np.trapz(np.absolute(psip0)**2, px) ) \n",
    "\n",
    "#Initial position/momentum\n",
    "x_0 = mean(x, psi0,lambda x:x)\n",
    "p_0 = mean(px, psip0,lambda p:p)\n",
    "\n",
    "#Initial expectation values of the square of momentum and position\n",
    "x_sq_0 = mean(x, psi0,lambda x:x**2)\n",
    "p_sq_0 = mean(px, psip0,lambda p:p**2)"
   ]
  },
  {
   "cell_type": "markdown",
   "metadata": {},
   "source": [
    "### Functions to compute the classical trajectories (Harmonic oscillator)\n",
    "\n",
    "\\begin{equation}\n",
    "    \\begin{split}\n",
    "        x(t) &= x_0 \\cos{\\omega t} + \\frac{p_0}{m \\omega} \\sin{\\omega t}\n",
    "        \\\\\n",
    "        p(t) &= p_0 \\cos{\\omega t} - m \\omega x_0 \\sin{\\omega t}\n",
    "    \\end{split}\n",
    "\\end{equation}"
   ]
  },
  {
   "cell_type": "code",
   "execution_count": 75,
   "metadata": {},
   "outputs": [],
   "source": [
    "# Classical trajectories\n",
    "def x_classical(t,x_0,p_0,omega=1,m=1):\n",
    "    return x_0 * np.cos(omega*t) + p_0 * np.sin(omega*t) / (m*omega)\n",
    "\n",
    "def p_classical(t,x_0,p_0,omega=1,m=1):\n",
    "    return p_0 * np.cos(omega*t) - x_0 * np.sin(omega*t) * (m*omega)\n"
   ]
  },
  {
   "cell_type": "markdown",
   "metadata": {},
   "source": [
    "Classical trajectories"
   ]
  },
  {
   "cell_type": "code",
   "execution_count": 76,
   "metadata": {},
   "outputs": [],
   "source": [
    "x_t = x_classical(tt,x_0,p_0,omega,m)\n",
    "p_t = p_classical(tt,x_0,p_0,omega,m)"
   ]
  },
  {
   "cell_type": "markdown",
   "metadata": {},
   "source": [
    "### Simulate the evolution of the Schrodinger equation and its expectation values"
   ]
  },
  {
   "cell_type": "code",
   "execution_count": 77,
   "metadata": {},
   "outputs": [],
   "source": [
    "#Expectation values of position and momentum\n",
    "x_t_Schrodinger = [x_0]\n",
    "p_t_Schrodinger = [p_0]\n",
    "\n",
    "#Expectation values of the square of position and momentum\n",
    "x_t_sq_Schrodinger = [x_sq_0]\n",
    "p_t_sq_Schrodinger = [p_sq_0]\n",
    "\n",
    "# Initialize the wave functions to psi0 and psip0\n",
    "psi = np.copy(psi0)\n",
    "psip = np.copy(psip0)\n",
    "\n",
    "#Loop to evolve the wave function\n",
    "for ii in range(n-1):\n",
    "    pysom.propagation.suzuki_trotter_step(psi, psip, expkin, V, nx, x, dx, px, dpx,dt)\n",
    "\n",
    "    x_t_Schrodinger.append( mean(x, psi,lambda x:x) )\n",
    "    p_t_Schrodinger.append( mean(px, psip,lambda p:p) )\n",
    "    x_t_sq_Schrodinger.append( mean(x, psi,lambda x:x**2) )\n",
    "    p_t_sq_Schrodinger.append( mean(px, psip,lambda px:px**2) )\n",
    "\n",
    "x_f = mean(x, psi,lambda x:x)\n",
    "p_f = mean(px, psip,lambda p:p)\n",
    "\n",
    "#transform these lists into numpy arrays\n",
    "x_t_Schrodinger = np.array( x_t_Schrodinger )\n",
    "p_t_Schrodinger = np.array( p_t_Schrodinger )\n",
    "x_t_sq_Schrodinger = np.array( x_t_sq_Schrodinger )\n",
    "p_t_sq_Schrodinger = np.array( p_t_sq_Schrodinger )\n"
   ]
  },
  {
   "cell_type": "markdown",
   "metadata": {},
   "source": [
    "### Compare the classical and quantum trajectories"
   ]
  },
  {
   "cell_type": "code",
   "execution_count": 78,
   "metadata": {},
   "outputs": [
    {
     "data": {
      "text/plain": [
       "[<matplotlib.lines.Line2D at 0x7f7fb2b1b310>]"
      ]
     },
     "execution_count": 78,
     "metadata": {},
     "output_type": "execute_result"
    },
    {
     "data": {
      "image/png": "[encoded data removed]",
      "text/plain": [
       "<Figure size 432x288 with 1 Axes>"
      ]
     },
     "metadata": {
      "needs_background": "light"
     },
     "output_type": "display_data"
    }
   ],
   "source": [
    "plt.plot(tt,p_t,'r')\n",
    "plt.plot(tt,p_t_Schrodinger,'b--')"
   ]
  },
  {
   "cell_type": "markdown",
   "metadata": {},
   "source": [
    "The classical and quantum trajectories are undistinguishable, as should be for the harmonic oscillator."
   ]
  },
  {
   "cell_type": "code",
   "execution_count": 84,
   "metadata": {},
   "outputs": [
    {
     "data": {
      "text/plain": [
       "[<matplotlib.lines.Line2D at 0x7f7f4011cad0>]"
      ]
     },
     "execution_count": 84,
     "metadata": {},
     "output_type": "execute_result"
    },
    {
     "data": {
      "image/png": "[encoded data removed]",
      "text/plain": [
       "<Figure size 432x288 with 1 Axes>"
      ]
     },
     "metadata": {
      "needs_background": "light"
     },
     "output_type": "display_data"
    }
   ],
   "source": [
    "plt.plot(tt,Delta_p,'k')\n",
    "# plt.plot(tt,Delta_x,'r')"
   ]
  },
  {
   "cell_type": "code",
   "execution_count": 80,
   "metadata": {},
   "outputs": [],
   "source": [
    "Delta_x = np.sqrt(x_t_sq_Schrodinger-x_t_Schrodinger**2)\n",
    "Delta_p = np.sqrt(p_t_sq_Schrodinger-p_t_Schrodinger**2)"
   ]
  },
  {
   "cell_type": "code",
   "execution_count": 81,
   "metadata": {},
   "outputs": [
    {
     "data": {
      "text/plain": [
       "<matplotlib.collections.LineCollection at 0x7f7f5140ed50>"
      ]
     },
     "execution_count": 81,
     "metadata": {},
     "output_type": "execute_result"
    },
    {
     "data": {
      "image/png": "[encoded data removed]",
      "text/plain": [
       "<Figure size 432x288 with 1 Axes>"
      ]
     },
     "metadata": {
      "needs_background": "light"
     },
     "output_type": "display_data"
    }
   ],
   "source": [
    "plt.plot(tt,Delta_p*Delta_x)\n",
    "plt.hlines(hb/2.,0,tt[-1],'r')"
   ]
  },
  {
   "cell_type": "code",
   "execution_count": 61,
   "metadata": {},
   "outputs": [
    {
     "data": {
      "text/plain": [
       "\u001b[0;31mSignature:\u001b[0m\n",
       "\u001b[0mplt\u001b[0m\u001b[0;34m.\u001b[0m\u001b[0mhlines\u001b[0m\u001b[0;34m(\u001b[0m\u001b[0;34m\u001b[0m\n",
       "\u001b[0;34m\u001b[0m    \u001b[0my\u001b[0m\u001b[0;34m,\u001b[0m\u001b[0;34m\u001b[0m\n",
       "\u001b[0;34m\u001b[0m    \u001b[0mxmin\u001b[0m\u001b[0;34m,\u001b[0m\u001b[0;34m\u001b[0m\n",
       "\u001b[0;34m\u001b[0m    \u001b[0mxmax\u001b[0m\u001b[0;34m,\u001b[0m\u001b[0;34m\u001b[0m\n",
       "\u001b[0;34m\u001b[0m    \u001b[0mcolors\u001b[0m\u001b[0;34m=\u001b[0m\u001b[0;34m'k'\u001b[0m\u001b[0;34m,\u001b[0m\u001b[0;34m\u001b[0m\n",
       "\u001b[0;34m\u001b[0m    \u001b[0mlinestyles\u001b[0m\u001b[0;34m=\u001b[0m\u001b[0;34m'solid'\u001b[0m\u001b[0;34m,\u001b[0m\u001b[0;34m\u001b[0m\n",
       "\u001b[0;34m\u001b[0m    \u001b[0mlabel\u001b[0m\u001b[0;34m=\u001b[0m\u001b[0;34m''\u001b[0m\u001b[0;34m,\u001b[0m\u001b[0;34m\u001b[0m\n",
       "\u001b[0;34m\u001b[0m    \u001b[0;34m*\u001b[0m\u001b[0;34m,\u001b[0m\u001b[0;34m\u001b[0m\n",
       "\u001b[0;34m\u001b[0m    \u001b[0mdata\u001b[0m\u001b[0;34m=\u001b[0m\u001b[0;32mNone\u001b[0m\u001b[0;34m,\u001b[0m\u001b[0;34m\u001b[0m\n",
       "\u001b[0;34m\u001b[0m    \u001b[0;34m**\u001b[0m\u001b[0mkwargs\u001b[0m\u001b[0;34m,\u001b[0m\u001b[0;34m\u001b[0m\n",
       "\u001b[0;34m\u001b[0m\u001b[0;34m)\u001b[0m\u001b[0;34m\u001b[0m\u001b[0;34m\u001b[0m\u001b[0m\n",
       "\u001b[0;31mDocstring:\u001b[0m\n",
       "Plot horizontal lines at each *y* from *xmin* to *xmax*.\n",
       "\n",
       "Parameters\n",
       "----------\n",
       "y : scalar or sequence of scalar\n",
       "    y-indexes where to plot the lines.\n",
       "\n",
       "xmin, xmax : scalar or 1D array_like\n",
       "    Respective beginning and end of each line. If scalars are\n",
       "    provided, all lines will have same length.\n",
       "\n",
       "colors : array_like of colors, optional, default: 'k'\n",
       "\n",
       "linestyles : {'solid', 'dashed', 'dashdot', 'dotted'}, optional\n",
       "\n",
       "label : string, optional, default: ''\n",
       "\n",
       "Returns\n",
       "-------\n",
       "lines : `~matplotlib.collections.LineCollection`\n",
       "\n",
       "Other Parameters\n",
       "----------------\n",
       "**kwargs :  `~matplotlib.collections.LineCollection` properties.\n",
       "\n",
       "See also\n",
       "--------\n",
       "vlines : vertical lines\n",
       "axhline: horizontal line across the axes\n",
       "\n",
       "Notes\n",
       "-----\n",
       "\n",
       "\n",
       ".. note::\n",
       "    In addition to the above described arguments, this function can take a\n",
       "    **data** keyword argument. If such a **data** argument is given, the\n",
       "    following arguments are replaced by **data[<arg>]**:\n",
       "\n",
       "    * All arguments with the following names: 'colors', 'xmax', 'xmin', 'y'.\n",
       "\n",
       "    Objects passed as **data** must support item access (``data[<arg>]``) and\n",
       "    membership test (``<arg> in data``).\n",
       "\u001b[0;31mFile:\u001b[0m      ~/opt/anaconda3/lib/python3.7/site-packages/matplotlib/pyplot.py\n",
       "\u001b[0;31mType:\u001b[0m      function\n"
      ]
     },
     "metadata": {},
     "output_type": "display_data"
    }
   ],
   "source": [
    "?plt.hlines"
   ]
  },
  {
   "cell_type": "code",
   "execution_count": 65,
   "metadata": {},
   "outputs": [
    {
     "data": {
      "text/plain": [
       "5e-07"
      ]
     },
     "execution_count": 65,
     "metadata": {},
     "output_type": "execute_result"
    }
   ],
   "source": [
    "tt[-1]"
   ]
  },
  {
   "cell_type": "code",
   "execution_count": null,
   "metadata": {},
   "outputs": [],
   "source": []
  }
 ],
 "metadata": {
  "kernelspec": {
   "display_name": "Python 3",
   "language": "python",
   "name": "python3"
  },
  "language_info": {
   "codemirror_mode": {
    "name": "ipython",
    "version": 3
   },
   "file_extension": ".py",
   "mimetype": "text/x-python",
   "name": "python",
   "nbconvert_exporter": "python",
   "pygments_lexer": "ipython3",
   "version": "3.7.4"
  }
 },
 "nbformat": 4,
 "nbformat_minor": 4
}
